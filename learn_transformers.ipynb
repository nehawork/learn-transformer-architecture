{
  "nbformat": 4,
  "nbformat_minor": 0,
  "metadata": {
    "colab": {
      "provenance": [],
      "collapsed_sections": [
        "-s3njr5Yrr5R",
        "rd_q5tE9sdhJ",
        "5BhNOYIfvFB3",
        "IorQk2NYcP9x",
        "RZDfrTWRcW8z"
      ]
    },
    "kernelspec": {
      "name": "python3",
      "display_name": "Python 3"
    },
    "language_info": {
      "name": "python"
    },
    "widgets": {
      "application/vnd.jupyter.widget-state+json": {
        "383c5bd2f60d411a8890df51526541db": {
          "model_module": "@jupyter-widgets/controls",
          "model_name": "VBoxModel",
          "model_module_version": "1.5.0",
          "state": {
            "_dom_classes": [],
            "_model_module": "@jupyter-widgets/controls",
            "_model_module_version": "1.5.0",
            "_model_name": "VBoxModel",
            "_view_count": null,
            "_view_module": "@jupyter-widgets/controls",
            "_view_module_version": "1.5.0",
            "_view_name": "VBoxView",
            "box_style": "",
            "children": [
              "IPY_MODEL_add2c477d898480cbdf71d29860f565f",
              "IPY_MODEL_ed858ef72fd64bf7b46c0e8c1ffb6e4b",
              "IPY_MODEL_1a37045cfde2422fbaa190ed2b104177",
              "IPY_MODEL_9106f4aa708b41659579683a7a7ecb55",
              "IPY_MODEL_b5a57f92e8264ef1a7dce8b2e3ea16f4"
            ],
            "layout": "IPY_MODEL_3e39692c6fcb4f1ab68543614f36a521"
          }
        },
        "add2c477d898480cbdf71d29860f565f": {
          "model_module": "@jupyter-widgets/controls",
          "model_name": "HTMLModel",
          "model_module_version": "1.5.0",
          "state": {
            "_dom_classes": [],
            "_model_module": "@jupyter-widgets/controls",
            "_model_module_version": "1.5.0",
            "_model_name": "HTMLModel",
            "_view_count": null,
            "_view_module": "@jupyter-widgets/controls",
            "_view_module_version": "1.5.0",
            "_view_name": "HTMLView",
            "description": "",
            "description_tooltip": null,
            "layout": "IPY_MODEL_33905b07122f40ae8dc2f988377c5bb9",
            "placeholder": "​",
            "style": "IPY_MODEL_2497868026c44f1cb1fcfb6d816ae5e8",
            "value": "<center> <img\nsrc=https://huggingface.co/front/assets/huggingface_logo-noborder.svg\nalt='Hugging Face'> <br> Copy a token from <a\nhref=\"https://huggingface.co/settings/tokens\" target=\"_blank\">your Hugging Face\ntokens page</a> and paste it below. <br> Immediately click login after copying\nyour token or it might be stored in plain text in this notebook file. </center>"
          }
        },
        "ed858ef72fd64bf7b46c0e8c1ffb6e4b": {
          "model_module": "@jupyter-widgets/controls",
          "model_name": "PasswordModel",
          "model_module_version": "1.5.0",
          "state": {
            "_dom_classes": [],
            "_model_module": "@jupyter-widgets/controls",
            "_model_module_version": "1.5.0",
            "_model_name": "PasswordModel",
            "_view_count": null,
            "_view_module": "@jupyter-widgets/controls",
            "_view_module_version": "1.5.0",
            "_view_name": "PasswordView",
            "continuous_update": true,
            "description": "Token:",
            "description_tooltip": null,
            "disabled": false,
            "layout": "IPY_MODEL_0e9be2f2ffd34d6fa04c8b966da654fe",
            "placeholder": "​",
            "style": "IPY_MODEL_3b1663f2afe34044965da1cf783c66c7",
            "value": ""
          }
        },
        "1a37045cfde2422fbaa190ed2b104177": {
          "model_module": "@jupyter-widgets/controls",
          "model_name": "CheckboxModel",
          "model_module_version": "1.5.0",
          "state": {
            "_dom_classes": [],
            "_model_module": "@jupyter-widgets/controls",
            "_model_module_version": "1.5.0",
            "_model_name": "CheckboxModel",
            "_view_count": null,
            "_view_module": "@jupyter-widgets/controls",
            "_view_module_version": "1.5.0",
            "_view_name": "CheckboxView",
            "description": "Add token as git credential?",
            "description_tooltip": null,
            "disabled": false,
            "indent": true,
            "layout": "IPY_MODEL_345d548ea4fc4250948d070d5556e340",
            "style": "IPY_MODEL_8aef089fd0d94f4baf9d2257aefc0f73",
            "value": true
          }
        },
        "9106f4aa708b41659579683a7a7ecb55": {
          "model_module": "@jupyter-widgets/controls",
          "model_name": "ButtonModel",
          "model_module_version": "1.5.0",
          "state": {
            "_dom_classes": [],
            "_model_module": "@jupyter-widgets/controls",
            "_model_module_version": "1.5.0",
            "_model_name": "ButtonModel",
            "_view_count": null,
            "_view_module": "@jupyter-widgets/controls",
            "_view_module_version": "1.5.0",
            "_view_name": "ButtonView",
            "button_style": "",
            "description": "Login",
            "disabled": false,
            "icon": "",
            "layout": "IPY_MODEL_cb98a7186ae54a6f98b2cecf45cdada2",
            "style": "IPY_MODEL_3ebfe4cc1c964068a14df47f7702885d",
            "tooltip": ""
          }
        },
        "b5a57f92e8264ef1a7dce8b2e3ea16f4": {
          "model_module": "@jupyter-widgets/controls",
          "model_name": "HTMLModel",
          "model_module_version": "1.5.0",
          "state": {
            "_dom_classes": [],
            "_model_module": "@jupyter-widgets/controls",
            "_model_module_version": "1.5.0",
            "_model_name": "HTMLModel",
            "_view_count": null,
            "_view_module": "@jupyter-widgets/controls",
            "_view_module_version": "1.5.0",
            "_view_name": "HTMLView",
            "description": "",
            "description_tooltip": null,
            "layout": "IPY_MODEL_b7c008a88bbd4ccca68acaea0f75bd19",
            "placeholder": "​",
            "style": "IPY_MODEL_433ad1479f2f487ea3895f00f71050c0",
            "value": "\n<b>Pro Tip:</b> If you don't already have one, you can create a dedicated\n'notebooks' token with 'write' access, that you can then easily reuse for all\nnotebooks. </center>"
          }
        },
        "3e39692c6fcb4f1ab68543614f36a521": {
          "model_module": "@jupyter-widgets/base",
          "model_name": "LayoutModel",
          "model_module_version": "1.2.0",
          "state": {
            "_model_module": "@jupyter-widgets/base",
            "_model_module_version": "1.2.0",
            "_model_name": "LayoutModel",
            "_view_count": null,
            "_view_module": "@jupyter-widgets/base",
            "_view_module_version": "1.2.0",
            "_view_name": "LayoutView",
            "align_content": null,
            "align_items": "center",
            "align_self": null,
            "border": null,
            "bottom": null,
            "display": "flex",
            "flex": null,
            "flex_flow": "column",
            "grid_area": null,
            "grid_auto_columns": null,
            "grid_auto_flow": null,
            "grid_auto_rows": null,
            "grid_column": null,
            "grid_gap": null,
            "grid_row": null,
            "grid_template_areas": null,
            "grid_template_columns": null,
            "grid_template_rows": null,
            "height": null,
            "justify_content": null,
            "justify_items": null,
            "left": null,
            "margin": null,
            "max_height": null,
            "max_width": null,
            "min_height": null,
            "min_width": null,
            "object_fit": null,
            "object_position": null,
            "order": null,
            "overflow": null,
            "overflow_x": null,
            "overflow_y": null,
            "padding": null,
            "right": null,
            "top": null,
            "visibility": null,
            "width": "50%"
          }
        },
        "33905b07122f40ae8dc2f988377c5bb9": {
          "model_module": "@jupyter-widgets/base",
          "model_name": "LayoutModel",
          "model_module_version": "1.2.0",
          "state": {
            "_model_module": "@jupyter-widgets/base",
            "_model_module_version": "1.2.0",
            "_model_name": "LayoutModel",
            "_view_count": null,
            "_view_module": "@jupyter-widgets/base",
            "_view_module_version": "1.2.0",
            "_view_name": "LayoutView",
            "align_content": null,
            "align_items": null,
            "align_self": null,
            "border": null,
            "bottom": null,
            "display": null,
            "flex": null,
            "flex_flow": null,
            "grid_area": null,
            "grid_auto_columns": null,
            "grid_auto_flow": null,
            "grid_auto_rows": null,
            "grid_column": null,
            "grid_gap": null,
            "grid_row": null,
            "grid_template_areas": null,
            "grid_template_columns": null,
            "grid_template_rows": null,
            "height": null,
            "justify_content": null,
            "justify_items": null,
            "left": null,
            "margin": null,
            "max_height": null,
            "max_width": null,
            "min_height": null,
            "min_width": null,
            "object_fit": null,
            "object_position": null,
            "order": null,
            "overflow": null,
            "overflow_x": null,
            "overflow_y": null,
            "padding": null,
            "right": null,
            "top": null,
            "visibility": null,
            "width": null
          }
        },
        "2497868026c44f1cb1fcfb6d816ae5e8": {
          "model_module": "@jupyter-widgets/controls",
          "model_name": "DescriptionStyleModel",
          "model_module_version": "1.5.0",
          "state": {
            "_model_module": "@jupyter-widgets/controls",
            "_model_module_version": "1.5.0",
            "_model_name": "DescriptionStyleModel",
            "_view_count": null,
            "_view_module": "@jupyter-widgets/base",
            "_view_module_version": "1.2.0",
            "_view_name": "StyleView",
            "description_width": ""
          }
        },
        "0e9be2f2ffd34d6fa04c8b966da654fe": {
          "model_module": "@jupyter-widgets/base",
          "model_name": "LayoutModel",
          "model_module_version": "1.2.0",
          "state": {
            "_model_module": "@jupyter-widgets/base",
            "_model_module_version": "1.2.0",
            "_model_name": "LayoutModel",
            "_view_count": null,
            "_view_module": "@jupyter-widgets/base",
            "_view_module_version": "1.2.0",
            "_view_name": "LayoutView",
            "align_content": null,
            "align_items": null,
            "align_self": null,
            "border": null,
            "bottom": null,
            "display": null,
            "flex": null,
            "flex_flow": null,
            "grid_area": null,
            "grid_auto_columns": null,
            "grid_auto_flow": null,
            "grid_auto_rows": null,
            "grid_column": null,
            "grid_gap": null,
            "grid_row": null,
            "grid_template_areas": null,
            "grid_template_columns": null,
            "grid_template_rows": null,
            "height": null,
            "justify_content": null,
            "justify_items": null,
            "left": null,
            "margin": null,
            "max_height": null,
            "max_width": null,
            "min_height": null,
            "min_width": null,
            "object_fit": null,
            "object_position": null,
            "order": null,
            "overflow": null,
            "overflow_x": null,
            "overflow_y": null,
            "padding": null,
            "right": null,
            "top": null,
            "visibility": null,
            "width": null
          }
        },
        "3b1663f2afe34044965da1cf783c66c7": {
          "model_module": "@jupyter-widgets/controls",
          "model_name": "DescriptionStyleModel",
          "model_module_version": "1.5.0",
          "state": {
            "_model_module": "@jupyter-widgets/controls",
            "_model_module_version": "1.5.0",
            "_model_name": "DescriptionStyleModel",
            "_view_count": null,
            "_view_module": "@jupyter-widgets/base",
            "_view_module_version": "1.2.0",
            "_view_name": "StyleView",
            "description_width": ""
          }
        },
        "345d548ea4fc4250948d070d5556e340": {
          "model_module": "@jupyter-widgets/base",
          "model_name": "LayoutModel",
          "model_module_version": "1.2.0",
          "state": {
            "_model_module": "@jupyter-widgets/base",
            "_model_module_version": "1.2.0",
            "_model_name": "LayoutModel",
            "_view_count": null,
            "_view_module": "@jupyter-widgets/base",
            "_view_module_version": "1.2.0",
            "_view_name": "LayoutView",
            "align_content": null,
            "align_items": null,
            "align_self": null,
            "border": null,
            "bottom": null,
            "display": null,
            "flex": null,
            "flex_flow": null,
            "grid_area": null,
            "grid_auto_columns": null,
            "grid_auto_flow": null,
            "grid_auto_rows": null,
            "grid_column": null,
            "grid_gap": null,
            "grid_row": null,
            "grid_template_areas": null,
            "grid_template_columns": null,
            "grid_template_rows": null,
            "height": null,
            "justify_content": null,
            "justify_items": null,
            "left": null,
            "margin": null,
            "max_height": null,
            "max_width": null,
            "min_height": null,
            "min_width": null,
            "object_fit": null,
            "object_position": null,
            "order": null,
            "overflow": null,
            "overflow_x": null,
            "overflow_y": null,
            "padding": null,
            "right": null,
            "top": null,
            "visibility": null,
            "width": null
          }
        },
        "8aef089fd0d94f4baf9d2257aefc0f73": {
          "model_module": "@jupyter-widgets/controls",
          "model_name": "DescriptionStyleModel",
          "model_module_version": "1.5.0",
          "state": {
            "_model_module": "@jupyter-widgets/controls",
            "_model_module_version": "1.5.0",
            "_model_name": "DescriptionStyleModel",
            "_view_count": null,
            "_view_module": "@jupyter-widgets/base",
            "_view_module_version": "1.2.0",
            "_view_name": "StyleView",
            "description_width": ""
          }
        },
        "cb98a7186ae54a6f98b2cecf45cdada2": {
          "model_module": "@jupyter-widgets/base",
          "model_name": "LayoutModel",
          "model_module_version": "1.2.0",
          "state": {
            "_model_module": "@jupyter-widgets/base",
            "_model_module_version": "1.2.0",
            "_model_name": "LayoutModel",
            "_view_count": null,
            "_view_module": "@jupyter-widgets/base",
            "_view_module_version": "1.2.0",
            "_view_name": "LayoutView",
            "align_content": null,
            "align_items": null,
            "align_self": null,
            "border": null,
            "bottom": null,
            "display": null,
            "flex": null,
            "flex_flow": null,
            "grid_area": null,
            "grid_auto_columns": null,
            "grid_auto_flow": null,
            "grid_auto_rows": null,
            "grid_column": null,
            "grid_gap": null,
            "grid_row": null,
            "grid_template_areas": null,
            "grid_template_columns": null,
            "grid_template_rows": null,
            "height": null,
            "justify_content": null,
            "justify_items": null,
            "left": null,
            "margin": null,
            "max_height": null,
            "max_width": null,
            "min_height": null,
            "min_width": null,
            "object_fit": null,
            "object_position": null,
            "order": null,
            "overflow": null,
            "overflow_x": null,
            "overflow_y": null,
            "padding": null,
            "right": null,
            "top": null,
            "visibility": null,
            "width": null
          }
        },
        "3ebfe4cc1c964068a14df47f7702885d": {
          "model_module": "@jupyter-widgets/controls",
          "model_name": "ButtonStyleModel",
          "model_module_version": "1.5.0",
          "state": {
            "_model_module": "@jupyter-widgets/controls",
            "_model_module_version": "1.5.0",
            "_model_name": "ButtonStyleModel",
            "_view_count": null,
            "_view_module": "@jupyter-widgets/base",
            "_view_module_version": "1.2.0",
            "_view_name": "StyleView",
            "button_color": null,
            "font_weight": ""
          }
        },
        "b7c008a88bbd4ccca68acaea0f75bd19": {
          "model_module": "@jupyter-widgets/base",
          "model_name": "LayoutModel",
          "model_module_version": "1.2.0",
          "state": {
            "_model_module": "@jupyter-widgets/base",
            "_model_module_version": "1.2.0",
            "_model_name": "LayoutModel",
            "_view_count": null,
            "_view_module": "@jupyter-widgets/base",
            "_view_module_version": "1.2.0",
            "_view_name": "LayoutView",
            "align_content": null,
            "align_items": null,
            "align_self": null,
            "border": null,
            "bottom": null,
            "display": null,
            "flex": null,
            "flex_flow": null,
            "grid_area": null,
            "grid_auto_columns": null,
            "grid_auto_flow": null,
            "grid_auto_rows": null,
            "grid_column": null,
            "grid_gap": null,
            "grid_row": null,
            "grid_template_areas": null,
            "grid_template_columns": null,
            "grid_template_rows": null,
            "height": null,
            "justify_content": null,
            "justify_items": null,
            "left": null,
            "margin": null,
            "max_height": null,
            "max_width": null,
            "min_height": null,
            "min_width": null,
            "object_fit": null,
            "object_position": null,
            "order": null,
            "overflow": null,
            "overflow_x": null,
            "overflow_y": null,
            "padding": null,
            "right": null,
            "top": null,
            "visibility": null,
            "width": null
          }
        },
        "433ad1479f2f487ea3895f00f71050c0": {
          "model_module": "@jupyter-widgets/controls",
          "model_name": "DescriptionStyleModel",
          "model_module_version": "1.5.0",
          "state": {
            "_model_module": "@jupyter-widgets/controls",
            "_model_module_version": "1.5.0",
            "_model_name": "DescriptionStyleModel",
            "_view_count": null,
            "_view_module": "@jupyter-widgets/base",
            "_view_module_version": "1.2.0",
            "_view_name": "StyleView",
            "description_width": ""
          }
        },
        "9d5f0c42da8f48698ab9e95d8ca8ff03": {
          "model_module": "@jupyter-widgets/controls",
          "model_name": "HBoxModel",
          "model_module_version": "1.5.0",
          "state": {
            "_dom_classes": [],
            "_model_module": "@jupyter-widgets/controls",
            "_model_module_version": "1.5.0",
            "_model_name": "HBoxModel",
            "_view_count": null,
            "_view_module": "@jupyter-widgets/controls",
            "_view_module_version": "1.5.0",
            "_view_name": "HBoxView",
            "box_style": "",
            "children": [
              "IPY_MODEL_547670dd68df4bf99decbc0082ebf2cc",
              "IPY_MODEL_458db2140b4741398e41ea3c90be7bba",
              "IPY_MODEL_b8a09d49856b40e884ca3387a8e13246"
            ],
            "layout": "IPY_MODEL_4d0dc27058944425a1b200b12403a1fe"
          }
        },
        "547670dd68df4bf99decbc0082ebf2cc": {
          "model_module": "@jupyter-widgets/controls",
          "model_name": "HTMLModel",
          "model_module_version": "1.5.0",
          "state": {
            "_dom_classes": [],
            "_model_module": "@jupyter-widgets/controls",
            "_model_module_version": "1.5.0",
            "_model_name": "HTMLModel",
            "_view_count": null,
            "_view_module": "@jupyter-widgets/controls",
            "_view_module_version": "1.5.0",
            "_view_name": "HTMLView",
            "description": "",
            "description_tooltip": null,
            "layout": "IPY_MODEL_1e6ff7ee480d4ceb90d907baa6f764ca",
            "placeholder": "​",
            "style": "IPY_MODEL_e300696c90db4324bf41f15e6c0ff357",
            "value": "Loading checkpoint shards: 100%"
          }
        },
        "458db2140b4741398e41ea3c90be7bba": {
          "model_module": "@jupyter-widgets/controls",
          "model_name": "FloatProgressModel",
          "model_module_version": "1.5.0",
          "state": {
            "_dom_classes": [],
            "_model_module": "@jupyter-widgets/controls",
            "_model_module_version": "1.5.0",
            "_model_name": "FloatProgressModel",
            "_view_count": null,
            "_view_module": "@jupyter-widgets/controls",
            "_view_module_version": "1.5.0",
            "_view_name": "ProgressView",
            "bar_style": "success",
            "description": "",
            "description_tooltip": null,
            "layout": "IPY_MODEL_991bfda45b654627a8c69098d2d3be3f",
            "max": 2,
            "min": 0,
            "orientation": "horizontal",
            "style": "IPY_MODEL_76f2c1482ad34bfda6118dd4123d746a",
            "value": 2
          }
        },
        "b8a09d49856b40e884ca3387a8e13246": {
          "model_module": "@jupyter-widgets/controls",
          "model_name": "HTMLModel",
          "model_module_version": "1.5.0",
          "state": {
            "_dom_classes": [],
            "_model_module": "@jupyter-widgets/controls",
            "_model_module_version": "1.5.0",
            "_model_name": "HTMLModel",
            "_view_count": null,
            "_view_module": "@jupyter-widgets/controls",
            "_view_module_version": "1.5.0",
            "_view_name": "HTMLView",
            "description": "",
            "description_tooltip": null,
            "layout": "IPY_MODEL_9e28cd1b6573426d934fe8f73848ca40",
            "placeholder": "​",
            "style": "IPY_MODEL_0c43568e5168490e9abb350426a19b3d",
            "value": " 2/2 [00:00&lt;00:00,  1.17it/s]"
          }
        },
        "4d0dc27058944425a1b200b12403a1fe": {
          "model_module": "@jupyter-widgets/base",
          "model_name": "LayoutModel",
          "model_module_version": "1.2.0",
          "state": {
            "_model_module": "@jupyter-widgets/base",
            "_model_module_version": "1.2.0",
            "_model_name": "LayoutModel",
            "_view_count": null,
            "_view_module": "@jupyter-widgets/base",
            "_view_module_version": "1.2.0",
            "_view_name": "LayoutView",
            "align_content": null,
            "align_items": null,
            "align_self": null,
            "border": null,
            "bottom": null,
            "display": null,
            "flex": null,
            "flex_flow": null,
            "grid_area": null,
            "grid_auto_columns": null,
            "grid_auto_flow": null,
            "grid_auto_rows": null,
            "grid_column": null,
            "grid_gap": null,
            "grid_row": null,
            "grid_template_areas": null,
            "grid_template_columns": null,
            "grid_template_rows": null,
            "height": null,
            "justify_content": null,
            "justify_items": null,
            "left": null,
            "margin": null,
            "max_height": null,
            "max_width": null,
            "min_height": null,
            "min_width": null,
            "object_fit": null,
            "object_position": null,
            "order": null,
            "overflow": null,
            "overflow_x": null,
            "overflow_y": null,
            "padding": null,
            "right": null,
            "top": null,
            "visibility": null,
            "width": null
          }
        },
        "1e6ff7ee480d4ceb90d907baa6f764ca": {
          "model_module": "@jupyter-widgets/base",
          "model_name": "LayoutModel",
          "model_module_version": "1.2.0",
          "state": {
            "_model_module": "@jupyter-widgets/base",
            "_model_module_version": "1.2.0",
            "_model_name": "LayoutModel",
            "_view_count": null,
            "_view_module": "@jupyter-widgets/base",
            "_view_module_version": "1.2.0",
            "_view_name": "LayoutView",
            "align_content": null,
            "align_items": null,
            "align_self": null,
            "border": null,
            "bottom": null,
            "display": null,
            "flex": null,
            "flex_flow": null,
            "grid_area": null,
            "grid_auto_columns": null,
            "grid_auto_flow": null,
            "grid_auto_rows": null,
            "grid_column": null,
            "grid_gap": null,
            "grid_row": null,
            "grid_template_areas": null,
            "grid_template_columns": null,
            "grid_template_rows": null,
            "height": null,
            "justify_content": null,
            "justify_items": null,
            "left": null,
            "margin": null,
            "max_height": null,
            "max_width": null,
            "min_height": null,
            "min_width": null,
            "object_fit": null,
            "object_position": null,
            "order": null,
            "overflow": null,
            "overflow_x": null,
            "overflow_y": null,
            "padding": null,
            "right": null,
            "top": null,
            "visibility": null,
            "width": null
          }
        },
        "e300696c90db4324bf41f15e6c0ff357": {
          "model_module": "@jupyter-widgets/controls",
          "model_name": "DescriptionStyleModel",
          "model_module_version": "1.5.0",
          "state": {
            "_model_module": "@jupyter-widgets/controls",
            "_model_module_version": "1.5.0",
            "_model_name": "DescriptionStyleModel",
            "_view_count": null,
            "_view_module": "@jupyter-widgets/base",
            "_view_module_version": "1.2.0",
            "_view_name": "StyleView",
            "description_width": ""
          }
        },
        "991bfda45b654627a8c69098d2d3be3f": {
          "model_module": "@jupyter-widgets/base",
          "model_name": "LayoutModel",
          "model_module_version": "1.2.0",
          "state": {
            "_model_module": "@jupyter-widgets/base",
            "_model_module_version": "1.2.0",
            "_model_name": "LayoutModel",
            "_view_count": null,
            "_view_module": "@jupyter-widgets/base",
            "_view_module_version": "1.2.0",
            "_view_name": "LayoutView",
            "align_content": null,
            "align_items": null,
            "align_self": null,
            "border": null,
            "bottom": null,
            "display": null,
            "flex": null,
            "flex_flow": null,
            "grid_area": null,
            "grid_auto_columns": null,
            "grid_auto_flow": null,
            "grid_auto_rows": null,
            "grid_column": null,
            "grid_gap": null,
            "grid_row": null,
            "grid_template_areas": null,
            "grid_template_columns": null,
            "grid_template_rows": null,
            "height": null,
            "justify_content": null,
            "justify_items": null,
            "left": null,
            "margin": null,
            "max_height": null,
            "max_width": null,
            "min_height": null,
            "min_width": null,
            "object_fit": null,
            "object_position": null,
            "order": null,
            "overflow": null,
            "overflow_x": null,
            "overflow_y": null,
            "padding": null,
            "right": null,
            "top": null,
            "visibility": null,
            "width": null
          }
        },
        "76f2c1482ad34bfda6118dd4123d746a": {
          "model_module": "@jupyter-widgets/controls",
          "model_name": "ProgressStyleModel",
          "model_module_version": "1.5.0",
          "state": {
            "_model_module": "@jupyter-widgets/controls",
            "_model_module_version": "1.5.0",
            "_model_name": "ProgressStyleModel",
            "_view_count": null,
            "_view_module": "@jupyter-widgets/base",
            "_view_module_version": "1.2.0",
            "_view_name": "StyleView",
            "bar_color": null,
            "description_width": ""
          }
        },
        "9e28cd1b6573426d934fe8f73848ca40": {
          "model_module": "@jupyter-widgets/base",
          "model_name": "LayoutModel",
          "model_module_version": "1.2.0",
          "state": {
            "_model_module": "@jupyter-widgets/base",
            "_model_module_version": "1.2.0",
            "_model_name": "LayoutModel",
            "_view_count": null,
            "_view_module": "@jupyter-widgets/base",
            "_view_module_version": "1.2.0",
            "_view_name": "LayoutView",
            "align_content": null,
            "align_items": null,
            "align_self": null,
            "border": null,
            "bottom": null,
            "display": null,
            "flex": null,
            "flex_flow": null,
            "grid_area": null,
            "grid_auto_columns": null,
            "grid_auto_flow": null,
            "grid_auto_rows": null,
            "grid_column": null,
            "grid_gap": null,
            "grid_row": null,
            "grid_template_areas": null,
            "grid_template_columns": null,
            "grid_template_rows": null,
            "height": null,
            "justify_content": null,
            "justify_items": null,
            "left": null,
            "margin": null,
            "max_height": null,
            "max_width": null,
            "min_height": null,
            "min_width": null,
            "object_fit": null,
            "object_position": null,
            "order": null,
            "overflow": null,
            "overflow_x": null,
            "overflow_y": null,
            "padding": null,
            "right": null,
            "top": null,
            "visibility": null,
            "width": null
          }
        },
        "0c43568e5168490e9abb350426a19b3d": {
          "model_module": "@jupyter-widgets/controls",
          "model_name": "DescriptionStyleModel",
          "model_module_version": "1.5.0",
          "state": {
            "_model_module": "@jupyter-widgets/controls",
            "_model_module_version": "1.5.0",
            "_model_name": "DescriptionStyleModel",
            "_view_count": null,
            "_view_module": "@jupyter-widgets/base",
            "_view_module_version": "1.2.0",
            "_view_name": "StyleView",
            "description_width": ""
          }
        }
      }
    }
  },
  "cells": [
    {
      "cell_type": "markdown",
      "source": [
        "# Install Required Libraries\n",
        "\n",
        "| Library        | Purpose                                                                   |\n",
        "| -------------- | ------------------------------------------------------------------------- |\n",
        "| `transformers` | From Hugging Face. Lets us load LLaMA-2 and other language models easily. |\n",
        "| `accelerate`   | Helps load large models (like LLaMA-2 7B) on GPU/CPU seamlessly.          |\n",
        "| `torch`        | PyTorch — the deep learning framework used by LLaMA-2.                    |\n",
        "\n",
        "\n"
      ],
      "metadata": {
        "id": "-s3njr5Yrr5R"
      }
    },
    {
      "cell_type": "code",
      "execution_count": 55,
      "metadata": {
        "id": "0yzECqB8rkcQ"
      },
      "outputs": [],
      "source": [
        "!pip install transformers accelerate torch --quiet"
      ]
    },
    {
      "cell_type": "markdown",
      "source": [
        "# Login to Hugging Face\n",
        "\n",
        "LLaMA-2 is gated by Meta — you must accept the license and be approved.\n",
        "\n",
        "Once approved, you can use your Hugging Face token to access the model"
      ],
      "metadata": {
        "id": "rd_q5tE9sdhJ"
      }
    },
    {
      "cell_type": "code",
      "source": [
        "from huggingface_hub import notebook_login\n",
        "notebook_login()"
      ],
      "metadata": {
        "colab": {
          "base_uri": "https://localhost:8080/",
          "height": 0,
          "referenced_widgets": [
            "383c5bd2f60d411a8890df51526541db",
            "add2c477d898480cbdf71d29860f565f",
            "ed858ef72fd64bf7b46c0e8c1ffb6e4b",
            "1a37045cfde2422fbaa190ed2b104177",
            "9106f4aa708b41659579683a7a7ecb55",
            "b5a57f92e8264ef1a7dce8b2e3ea16f4",
            "3e39692c6fcb4f1ab68543614f36a521",
            "33905b07122f40ae8dc2f988377c5bb9",
            "2497868026c44f1cb1fcfb6d816ae5e8",
            "0e9be2f2ffd34d6fa04c8b966da654fe",
            "3b1663f2afe34044965da1cf783c66c7",
            "345d548ea4fc4250948d070d5556e340",
            "8aef089fd0d94f4baf9d2257aefc0f73",
            "cb98a7186ae54a6f98b2cecf45cdada2",
            "3ebfe4cc1c964068a14df47f7702885d",
            "b7c008a88bbd4ccca68acaea0f75bd19",
            "433ad1479f2f487ea3895f00f71050c0"
          ]
        },
        "id": "3KJJILtJsdO2",
        "outputId": "c783d339-9c48-48a8-8df0-c8ccb78855c6"
      },
      "execution_count": 56,
      "outputs": [
        {
          "output_type": "display_data",
          "data": {
            "text/plain": [
              "VBox(children=(HTML(value='<center> <img\\nsrc=https://huggingface.co/front/assets/huggingface_logo-noborder.sv…"
            ],
            "application/vnd.jupyter.widget-view+json": {
              "version_major": 2,
              "version_minor": 0,
              "model_id": "383c5bd2f60d411a8890df51526541db"
            }
          },
          "metadata": {}
        }
      ]
    },
    {
      "cell_type": "markdown",
      "source": [
        "# Import the necessary libraries"
      ],
      "metadata": {
        "id": "5BhNOYIfvFB3"
      }
    },
    {
      "cell_type": "code",
      "source": [
        "from transformers import AutoTokenizer, AutoModelForCausalLM\n",
        "import torch"
      ],
      "metadata": {
        "id": "VLq8qwRnvIs4"
      },
      "execution_count": 57,
      "outputs": []
    },
    {
      "cell_type": "markdown",
      "source": [
        "# Load LLaMA 2 - 7B model and tokenizer\n",
        "\n",
        "tokenizer turns text into tokens (numbers).\n",
        "\n",
        "model is the actual LLaMA-2 7B model. We're using:\n",
        "\n",
        "*   torch_dtype=torch.float16: Uses half-precision to save memory.\n",
        "*   device_map=\"auto\": Puts model on GPU if available.\n",
        "\n"
      ],
      "metadata": {
        "id": "IuhKPzPetHSZ"
      }
    },
    {
      "cell_type": "markdown",
      "source": [],
      "metadata": {
        "id": "u6L4GMZis_lB"
      }
    },
    {
      "cell_type": "code",
      "source": [
        "from transformers import AutoTokenizer, AutoModelForCausalLM\n",
        "import torch\n",
        "\n",
        "model_id = \"meta-llama/llama-2-7b-hf\"\n",
        "\n",
        "tokenizer = AutoTokenizer.from_pretrained(model_id)\n",
        "model = AutoModelForCausalLM.from_pretrained(\n",
        "    model_id,\n",
        "    torch_dtype=torch.float16,\n",
        "    device_map=\"auto\"\n",
        ")"
      ],
      "metadata": {
        "colab": {
          "base_uri": "https://localhost:8080/",
          "height": 67,
          "referenced_widgets": [
            "9d5f0c42da8f48698ab9e95d8ca8ff03",
            "547670dd68df4bf99decbc0082ebf2cc",
            "458db2140b4741398e41ea3c90be7bba",
            "b8a09d49856b40e884ca3387a8e13246",
            "4d0dc27058944425a1b200b12403a1fe",
            "1e6ff7ee480d4ceb90d907baa6f764ca",
            "e300696c90db4324bf41f15e6c0ff357",
            "991bfda45b654627a8c69098d2d3be3f",
            "76f2c1482ad34bfda6118dd4123d746a",
            "9e28cd1b6573426d934fe8f73848ca40",
            "0c43568e5168490e9abb350426a19b3d"
          ]
        },
        "id": "v8vEdCkztN9G",
        "outputId": "1fff7962-e42c-42d2-ec8b-16cb7ad9cccb"
      },
      "execution_count": 58,
      "outputs": [
        {
          "output_type": "display_data",
          "data": {
            "text/plain": [
              "Loading checkpoint shards:   0%|          | 0/2 [00:00<?, ?it/s]"
            ],
            "application/vnd.jupyter.widget-view+json": {
              "version_major": 2,
              "version_minor": 0,
              "model_id": "9d5f0c42da8f48698ab9e95d8ca8ff03"
            }
          },
          "metadata": {}
        },
        {
          "output_type": "stream",
          "name": "stderr",
          "text": [
            "WARNING:accelerate.big_modeling:Some parameters are on the meta device because they were offloaded to the cpu and disk.\n"
          ]
        }
      ]
    },
    {
      "cell_type": "markdown",
      "source": [
        "# Code for Visualization"
      ],
      "metadata": {
        "id": "IorQk2NYcP9x"
      }
    },
    {
      "cell_type": "code",
      "source": [
        "import matplotlib.pyplot as plt\n",
        "from sklearn.decomposition import PCA\n",
        "import seaborn as sns\n",
        "\n",
        "def visualize_embeddings(embeddings, title, labels=None):\n",
        "    # embeddings shape: (1, sequence_length, hidden_dim)\n",
        "    embeddings = embeddings.squeeze(0).cpu().numpy()\n",
        "\n",
        "    # Reduce to 2D using PCA\n",
        "    pca = PCA(n_components=2)\n",
        "    reduced = pca.fit_transform(embeddings)\n",
        "\n",
        "    # Plot\n",
        "    plt.figure(figsize=(10, 6))\n",
        "    sns.scatterplot(x=reduced[:, 0], y=reduced[:, 1], palette='viridis', s=100)\n",
        "\n",
        "    # Annotate with tokens\n",
        "    if labels:\n",
        "        for i, label in enumerate(labels):\n",
        "            plt.text(reduced[i, 0] + 0.02, reduced[i, 1], label, fontsize=12)\n",
        "\n",
        "    plt.title(title)\n",
        "    plt.xlabel(\"PCA 1\")\n",
        "    plt.ylabel(\"PCA 2\")\n",
        "    plt.grid(True)\n",
        "    plt.show()"
      ],
      "metadata": {
        "id": "-N3v_ipFb5Xq"
      },
      "execution_count": 59,
      "outputs": []
    },
    {
      "cell_type": "markdown",
      "source": [
        "# Input Text From User"
      ],
      "metadata": {
        "id": "GKnEqXh5vQ97"
      }
    },
    {
      "cell_type": "code",
      "source": [
        "input_text = input(\"Enter your text here: \")"
      ],
      "metadata": {
        "id": "8fZ8ERMIvTxD",
        "colab": {
          "base_uri": "https://localhost:8080/"
        },
        "outputId": "d287fd79-c79e-46d5-a3a9-60af67bb2564"
      },
      "execution_count": 70,
      "outputs": [
        {
          "name": "stdout",
          "output_type": "stream",
          "text": [
            "Enter your text here: Cricket is a\n"
          ]
        }
      ]
    },
    {
      "cell_type": "markdown",
      "source": [
        "# Tokenize It"
      ],
      "metadata": {
        "id": "TCKIEP5ftqAT"
      }
    },
    {
      "cell_type": "code",
      "source": [
        "tokens = tokenizer(input_text, return_tensors=\"pt\")\n",
        "input_ids = tokens[\"input_ids\"].to(model.device)\n",
        "attention_mask = tokens[\"attention_mask\"]\n",
        "\n",
        "print(\"🔹 Tokens:\", tokenizer.convert_ids_to_tokens(input_ids[0]))\n",
        "print(\"🔹 Input IDs:\", input_ids)\n",
        "print(\"🔹 Attension Mask:\", attention_mask)"
      ],
      "metadata": {
        "id": "C74Cvxd5toLJ",
        "colab": {
          "base_uri": "https://localhost:8080/"
        },
        "outputId": "e4918f1d-d295-4679-c1ed-34f4b533264b"
      },
      "execution_count": 71,
      "outputs": [
        {
          "output_type": "stream",
          "name": "stdout",
          "text": [
            "🔹 Tokens: ['<s>', '▁Cr', 'icket', '▁is', '▁a']\n",
            "🔹 Input IDs: tensor([[   1, 6781, 8522,  338,  263]])\n",
            "🔹 Attension Mask: tensor([[1, 1, 1, 1, 1]])\n"
          ]
        }
      ]
    },
    {
      "cell_type": "markdown",
      "source": [
        "# Get token embeddings"
      ],
      "metadata": {
        "id": "IlT9W1KzUxfB"
      }
    },
    {
      "cell_type": "code",
      "source": [
        "with torch.no_grad():\n",
        "    token_embeddings = model.model.embed_tokens(input_ids)\n",
        "print(\"🧠 Token Embeddings Shape:\", token_embeddings.shape)"
      ],
      "metadata": {
        "colab": {
          "base_uri": "https://localhost:8080/"
        },
        "id": "bZ5XYb58U2NB",
        "outputId": "7a81bd1c-f1f1-43cb-b2e1-a12cf1c902eb"
      },
      "execution_count": 72,
      "outputs": [
        {
          "output_type": "stream",
          "name": "stdout",
          "text": [
            "🧠 Token Embeddings Shape: torch.Size([1, 5, 4096])\n"
          ]
        }
      ]
    },
    {
      "cell_type": "markdown",
      "source": [
        "# Visualize Token Embeddings"
      ],
      "metadata": {
        "id": "gedjqiqlcSCz"
      }
    },
    {
      "cell_type": "code",
      "source": [
        "tokens = tokenizer.convert_ids_to_tokens(input_ids[0])\n",
        "visualize_embeddings(token_embeddings, title=\"Token Embeddings (Before Transformer Layers)\", labels=tokens)"
      ],
      "metadata": {
        "colab": {
          "base_uri": "https://localhost:8080/",
          "height": 600
        },
        "id": "SMnZP8g3cAT3",
        "outputId": "4705f449-fc5f-4cbf-b7b0-3ee5fb4da45a"
      },
      "execution_count": 73,
      "outputs": [
        {
          "output_type": "stream",
          "name": "stderr",
          "text": [
            "/tmp/ipython-input-59-2925602524.py:15: UserWarning: Ignoring `palette` because no `hue` variable has been assigned.\n",
            "  sns.scatterplot(x=reduced[:, 0], y=reduced[:, 1], palette='viridis', s=100)\n"
          ]
        },
        {
          "output_type": "display_data",
          "data": {
            "text/plain": [
              "<Figure size 1000x600 with 1 Axes>"
            ],
            "image/png": "[encoded data removed]"
          },
          "metadata": {}
        }
      ]
    },
    {
      "cell_type": "markdown",
      "source": [
        "# Get The Outputs & It's logits"
      ],
      "metadata": {
        "id": "zhTSVXWAhPVA"
      }
    },
    {
      "cell_type": "code",
      "source": [
        "with torch.no_grad():\n",
        "    outputs = model(input_ids=input_ids, attention_mask=attention_mask, output_hidden_states=True)\n",
        "    logits = outputs.logits  # Shape: (batch_size, seq_len, vocab_size)"
      ],
      "metadata": {
        "id": "aR_U-OqLhRSJ"
      },
      "execution_count": 74,
      "outputs": []
    },
    {
      "cell_type": "markdown",
      "source": [
        "# Get the output of the 1st transformer layer"
      ],
      "metadata": {
        "id": "nIi9Dsc3U6t3"
      }
    },
    {
      "cell_type": "code",
      "source": [
        "first_layer_output = outputs.hidden_states[1]  # Index 1 = after first layer\n",
        "print(\"✅ Output After 1st Transformer Layer:\", first_layer_output.shape)"
      ],
      "metadata": {
        "colab": {
          "base_uri": "https://localhost:8080/"
        },
        "id": "CMreAwu_U-Ok",
        "outputId": "6dcdeb9d-03e5-41f0-dc99-0bce6a0d07ce"
      },
      "execution_count": 75,
      "outputs": [
        {
          "output_type": "stream",
          "name": "stdout",
          "text": [
            "✅ Output After 1st Transformer Layer: torch.Size([1, 5, 4096])\n"
          ]
        }
      ]
    },
    {
      "cell_type": "markdown",
      "source": [
        "# Visualize 1st Layer Output Embeddings"
      ],
      "metadata": {
        "id": "RZDfrTWRcW8z"
      }
    },
    {
      "cell_type": "code",
      "source": [
        "first_layer_output = outputs.hidden_states[1]  # After first transformer block\n",
        "visualize_embeddings(first_layer_output, title=\"Output After 1st Transformer Layer\", labels=tokens)"
      ],
      "metadata": {
        "colab": {
          "base_uri": "https://localhost:8080/",
          "height": 0
        },
        "id": "OPXoX3uYcCZ_",
        "outputId": "05c50452-ad50-47f9-c7db-27fe2cd23251"
      },
      "execution_count": 76,
      "outputs": [
        {
          "output_type": "stream",
          "name": "stderr",
          "text": [
            "/tmp/ipython-input-59-2925602524.py:15: UserWarning: Ignoring `palette` because no `hue` variable has been assigned.\n",
            "  sns.scatterplot(x=reduced[:, 0], y=reduced[:, 1], palette='viridis', s=100)\n"
          ]
        },
        {
          "output_type": "display_data",
          "data": {
            "text/plain": [
              "<Figure size 1000x600 with 1 Axes>"
            ],
            "image/png": "[encoded data removed]"
          },
          "metadata": {}
        }
      ]
    },
    {
      "cell_type": "markdown",
      "source": [
        "# Final Embedding (Last Layer Output)"
      ],
      "metadata": {
        "id": "tkUSVMV5ZIzt"
      }
    },
    {
      "cell_type": "code",
      "source": [
        "final_output = outputs.hidden_states[-1]\n",
        "print(\"✅ Final Embedding (Last Layer Output) Shape:\", final_output.shape)"
      ],
      "metadata": {
        "colab": {
          "base_uri": "https://localhost:8080/"
        },
        "id": "y_lEVM3RZLTF",
        "outputId": "6ac4b142-b08c-4a99-febc-b526248de034"
      },
      "execution_count": 77,
      "outputs": [
        {
          "output_type": "stream",
          "name": "stdout",
          "text": [
            "✅ Final Embedding (Last Layer Output) Shape: torch.Size([1, 5, 4096])\n"
          ]
        }
      ]
    },
    {
      "cell_type": "markdown",
      "source": [
        "# Visualize Final Layer Output"
      ],
      "metadata": {
        "id": "Fz9hnac1caW7"
      }
    },
    {
      "cell_type": "code",
      "source": [
        "final_output = outputs.hidden_states[-1]\n",
        "visualize_embeddings(final_output, title=\"Final Embeddings (After All Layers)\", labels=tokens)"
      ],
      "metadata": {
        "colab": {
          "base_uri": "https://localhost:8080/",
          "height": 600
        },
        "id": "yntIlQeJcJiI",
        "outputId": "f4716598-5dd4-4bee-bed7-54fbf15aff36"
      },
      "execution_count": 78,
      "outputs": [
        {
          "output_type": "stream",
          "name": "stderr",
          "text": [
            "/tmp/ipython-input-59-2925602524.py:15: UserWarning: Ignoring `palette` because no `hue` variable has been assigned.\n",
            "  sns.scatterplot(x=reduced[:, 0], y=reduced[:, 1], palette='viridis', s=100)\n"
          ]
        },
        {
          "output_type": "display_data",
          "data": {
            "text/plain": [
              "<Figure size 1000x600 with 1 Axes>"
            ],
            "image/png": "[encoded data removed]"
          },
          "metadata": {}
        }
      ]
    },
    {
      "cell_type": "markdown",
      "source": [
        "# Predicted Next Token: & Top 5 tokens with probability"
      ],
      "metadata": {
        "id": "ARxY3VK9ha1L"
      }
    },
    {
      "cell_type": "code",
      "source": [
        "import torch.nn.functional as F\n",
        "\n",
        "\n",
        "# Step 2: Focus on the last token in the sequence\n",
        "last_token_logits = logits[:, -1, :]  # (1, vocab_size)\n",
        "\n",
        "# Step 3: Convert logits to probabilities\n",
        "probs = F.softmax(last_token_logits, dim=-1)\n",
        "\n",
        "# Step 4: Get the most probable next token\n",
        "predicted_token_id = torch.argmax(probs, dim=-1).item()\n",
        "predicted_token = tokenizer.decode(predicted_token_id)\n",
        "\n",
        "print(f\"\\n🔮 Predicted Next Token: '{predicted_token}'\")\n",
        "\n",
        "top_k = 5\n",
        "top_probs, top_indices = torch.topk(probs, k=top_k, dim=-1)\n",
        "\n",
        "for i in range(top_k):\n",
        "    token = tokenizer.decode(top_indices[0, i])\n",
        "    prob = top_probs[0, i].item()\n",
        "    print(f\"🔝 {i+1}: {token!r} (prob: {prob:.4f})\")"
      ],
      "metadata": {
        "colab": {
          "base_uri": "https://localhost:8080/"
        },
        "id": "LO3wEvwcdONx",
        "outputId": "ef7a8b29-e21a-4766-cf9a-155f4d0476af"
      },
      "execution_count": 79,
      "outputs": [
        {
          "output_type": "stream",
          "name": "stdout",
          "text": [
            "\n",
            "🔮 Predicted Next Token: 'game'\n",
            "🔝 1: 'game' (prob: 0.1456)\n",
            "🔝 2: 'bat' (prob: 0.1400)\n",
            "🔝 3: 'sport' (prob: 0.1207)\n",
            "🔝 4: 'team' (prob: 0.0682)\n",
            "🔝 5: 'popular' (prob: 0.0511)\n"
          ]
        }
      ]
    }
  ]
}